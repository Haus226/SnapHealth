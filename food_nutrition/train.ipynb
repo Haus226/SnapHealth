{
 "cells": [
  {
   "cell_type": "code",
   "execution_count": 16,
   "metadata": {},
   "outputs": [
    {
     "name": "stdout",
     "output_type": "stream",
     "text": [
      "Num GPUs Available:  1\n"
     ]
    }
   ],
   "source": [
    "import pandas as pd\n",
    "import tensorflow as tf\n",
    "from sklearn.model_selection import train_test_split\n",
    "from tensorflow.keras import layers, models\n",
    "from tensorflow.keras.applications import DenseNet201\n",
    "import os, numpy as np\n",
    "from keras.callbacks import ReduceLROnPlateau\n",
    "\n",
    "print(\"Num GPUs Available: \", len(tf.config.list_physical_devices('GPU')))\n",
    "\n",
    "# Load metadata\n",
    "metadata = pd.read_csv(\"food_nutrition.csv\")\n",
    "\n",
    "for path in metadata['images_path'].values[:5]:\n",
    "    if not os.path.exists(os.getcwd() + f\"/{path}\"):\n",
    "        print(f\"File not found: {path}\")\n",
    "\n",
    "# Extract image paths, ingredients, and nutrition values\n",
    "image_paths = [os.getcwd() + f\"/{p}\" for p in metadata['images_path'].values]\n",
    "nutrition_values = metadata.drop(columns=['images_path', 'ingredients']).values"
   ]
  },
  {
   "cell_type": "code",
   "execution_count": 17,
   "metadata": {},
   "outputs": [
    {
     "data": {
      "text/plain": [
       "(4343, 144, 339)"
      ]
     },
     "execution_count": 17,
     "metadata": {},
     "output_type": "execute_result"
    }
   ],
   "source": [
    "\n",
    "# Split the data into train, validation, and test sets\n",
    "train_paths, test_paths, train_nutrition, test_nutrition = train_test_split(\n",
    "    image_paths, nutrition_values, test_size=0.1, random_state=42)\n",
    "val_paths, test_paths, val_nutrition, test_nutrition = train_test_split(\n",
    "    test_paths, test_nutrition, test_size=0.7, random_state=42)\n",
    "\n",
    "# nutrition_mean = np.mean(train_nutrition, axis=0)\n",
    "# nutrition_std = np.std(train_nutrition, axis=0)\n",
    "# nutrition_mean, nutrition_std\n",
    "len(train_paths), len(val_paths), len(test_paths)"
   ]
  },
  {
   "cell_type": "code",
   "execution_count": 18,
   "metadata": {},
   "outputs": [
    {
     "data": {
      "text/plain": [
       "(array([2.56363430e+02, 7.33971313e+00, 2.61689099e+01, 9.00596559e+00,\n",
       "        5.73073905e+00, 1.49130057e+01, 2.49028021e-02, 3.62616988e+00,\n",
       "        3.56952805e-02]),\n",
       " array([7.11202240e+01, 3.18900623e+00, 1.02698777e+01, 1.03793033e+01,\n",
       "        3.77882835e+00, 7.53279707e+00, 2.63631380e-02, 2.63860028e+00,\n",
       "        1.98664601e-02]))"
      ]
     },
     "execution_count": 18,
     "metadata": {},
     "output_type": "execute_result"
    }
   ],
   "source": [
    "from sklearn.preprocessing import StandardScaler\n",
    "\n",
    "# Initialize the StandardScaler\n",
    "scaler = StandardScaler()\n",
    "\n",
    "# Fit the scaler on the training data and transform the training data\n",
    "train_nutrition = scaler.fit_transform(train_nutrition)\n",
    "\n",
    "# Transform the validation and test data using the fitted scaler\n",
    "val_nutrition = scaler.transform(val_nutrition)\n",
    "test_nutrition = scaler.transform(test_nutrition)\n",
    "\n",
    "scaler.mean_, np.sqrt(scaler.var_)"
   ]
  },
  {
   "cell_type": "code",
   "execution_count": 19,
   "metadata": {},
   "outputs": [
    {
     "name": "stdout",
     "output_type": "stream",
     "text": [
      "Epoch 1/30\n",
      "543/543 [==============================] - 91s 129ms/step - loss: 13.0257 - energy_loss: 1.4366 - protein_loss: 1.4393 - carbohydrates_loss: 1.4796 - sugars_loss: 1.4137 - fiber_loss: 1.4828 - fat_loss: 1.4382 - cholesterol_loss: 1.4459 - minerals_loss: 1.4472 - vitamins_loss: 1.4423 - val_loss: 9.3797 - val_energy_loss: 0.9947 - val_protein_loss: 1.0646 - val_carbohydrates_loss: 1.0535 - val_sugars_loss: 1.1034 - val_fiber_loss: 0.9825 - val_fat_loss: 1.0536 - val_cholesterol_loss: 1.0217 - val_minerals_loss: 1.0314 - val_vitamins_loss: 1.0743 - lr: 0.0010\n",
      "Epoch 2/30\n",
      "543/543 [==============================] - 62s 114ms/step - loss: 8.9370 - energy_loss: 0.9877 - protein_loss: 0.9965 - carbohydrates_loss: 0.9928 - sugars_loss: 1.0035 - fiber_loss: 0.9875 - fat_loss: 0.9896 - cholesterol_loss: 0.9947 - minerals_loss: 0.9923 - vitamins_loss: 0.9924 - val_loss: 9.1320 - val_energy_loss: 0.9549 - val_protein_loss: 1.0354 - val_carbohydrates_loss: 0.9944 - val_sugars_loss: 1.0156 - val_fiber_loss: 0.9878 - val_fat_loss: 1.0195 - val_cholesterol_loss: 1.0209 - val_minerals_loss: 1.0888 - val_vitamins_loss: 1.0147 - lr: 0.0010\n",
      "Epoch 3/30\n",
      "543/543 [==============================] - 62s 114ms/step - loss: 8.3359 - energy_loss: 0.9220 - protein_loss: 0.9277 - carbohydrates_loss: 0.9288 - sugars_loss: 0.9286 - fiber_loss: 0.9237 - fat_loss: 0.9256 - cholesterol_loss: 0.9285 - minerals_loss: 0.9257 - vitamins_loss: 0.9252 - val_loss: 9.4013 - val_energy_loss: 1.0233 - val_protein_loss: 1.0369 - val_carbohydrates_loss: 1.0689 - val_sugars_loss: 1.0428 - val_fiber_loss: 0.9921 - val_fat_loss: 1.0788 - val_cholesterol_loss: 1.0475 - val_minerals_loss: 1.0635 - val_vitamins_loss: 1.0475 - lr: 0.0010\n",
      "Epoch 4/30\n",
      "543/543 [==============================] - ETA: 0s - loss: 8.2732 - energy_loss: 0.9169 - protein_loss: 0.9226 - carbohydrates_loss: 0.9247 - sugars_loss: 0.9163 - fiber_loss: 0.9166 - fat_loss: 0.9147 - cholesterol_loss: 0.9200 - minerals_loss: 0.9241 - vitamins_loss: 0.9174\n",
      "Epoch 4: ReduceLROnPlateau reducing learning rate to 0.0005000000237487257.\n",
      "543/543 [==============================] - 62s 114ms/step - loss: 8.2732 - energy_loss: 0.9169 - protein_loss: 0.9226 - carbohydrates_loss: 0.9247 - sugars_loss: 0.9163 - fiber_loss: 0.9166 - fat_loss: 0.9147 - cholesterol_loss: 0.9200 - minerals_loss: 0.9241 - vitamins_loss: 0.9174 - val_loss: 9.7330 - val_energy_loss: 1.0510 - val_protein_loss: 1.0543 - val_carbohydrates_loss: 1.0532 - val_sugars_loss: 1.1795 - val_fiber_loss: 1.0644 - val_fat_loss: 1.1394 - val_cholesterol_loss: 1.0667 - val_minerals_loss: 1.0600 - val_vitamins_loss: 1.0646 - lr: 0.0010\n",
      "Epoch 5/30\n",
      "543/543 [==============================] - 62s 114ms/step - loss: 8.4376 - energy_loss: 0.9348 - protein_loss: 0.9375 - carbohydrates_loss: 0.9372 - sugars_loss: 0.9359 - fiber_loss: 0.9355 - fat_loss: 0.9351 - cholesterol_loss: 0.9402 - minerals_loss: 0.9424 - vitamins_loss: 0.9389 - val_loss: 9.0514 - val_energy_loss: 1.0034 - val_protein_loss: 0.9979 - val_carbohydrates_loss: 1.1112 - val_sugars_loss: 0.9725 - val_fiber_loss: 0.9956 - val_fat_loss: 0.9843 - val_cholesterol_loss: 1.0151 - val_minerals_loss: 1.0029 - val_vitamins_loss: 0.9686 - lr: 5.0000e-04\n",
      "Epoch 6/30\n",
      "543/543 [==============================] - 62s 114ms/step - loss: 8.1289 - energy_loss: 0.9048 - protein_loss: 0.9019 - carbohydrates_loss: 0.9014 - sugars_loss: 0.9054 - fiber_loss: 0.9013 - fat_loss: 0.9015 - cholesterol_loss: 0.9040 - minerals_loss: 0.9021 - vitamins_loss: 0.9065 - val_loss: 8.8411 - val_energy_loss: 0.9536 - val_protein_loss: 0.9775 - val_carbohydrates_loss: 1.0729 - val_sugars_loss: 0.9863 - val_fiber_loss: 0.9706 - val_fat_loss: 0.9745 - val_cholesterol_loss: 0.9615 - val_minerals_loss: 0.9684 - val_vitamins_loss: 0.9759 - lr: 5.0000e-04\n",
      "Epoch 7/30\n",
      "543/543 [==============================] - 62s 114ms/step - loss: 8.0576 - energy_loss: 0.8969 - protein_loss: 0.8942 - carbohydrates_loss: 0.8936 - sugars_loss: 0.8996 - fiber_loss: 0.8937 - fat_loss: 0.8961 - cholesterol_loss: 0.8927 - minerals_loss: 0.8910 - vitamins_loss: 0.8997 - val_loss: 8.8217 - val_energy_loss: 0.9590 - val_protein_loss: 0.9632 - val_carbohydrates_loss: 1.0691 - val_sugars_loss: 1.0157 - val_fiber_loss: 0.9604 - val_fat_loss: 0.9675 - val_cholesterol_loss: 0.9362 - val_minerals_loss: 0.9627 - val_vitamins_loss: 0.9878 - lr: 5.0000e-04\n",
      "Epoch 8/30\n",
      "543/543 [==============================] - 62s 114ms/step - loss: 8.1275 - energy_loss: 0.9035 - protein_loss: 0.8992 - carbohydrates_loss: 0.9022 - sugars_loss: 0.9057 - fiber_loss: 0.9034 - fat_loss: 0.9062 - cholesterol_loss: 0.8994 - minerals_loss: 0.9001 - vitamins_loss: 0.9078 - val_loss: 8.8409 - val_energy_loss: 1.0056 - val_protein_loss: 0.9733 - val_carbohydrates_loss: 1.0125 - val_sugars_loss: 0.9702 - val_fiber_loss: 0.9729 - val_fat_loss: 0.9912 - val_cholesterol_loss: 0.9611 - val_minerals_loss: 0.9649 - val_vitamins_loss: 0.9892 - lr: 5.0000e-04\n",
      "Epoch 9/30\n",
      "543/543 [==============================] - 62s 114ms/step - loss: 8.2640 - energy_loss: 0.9177 - protein_loss: 0.9158 - carbohydrates_loss: 0.9175 - sugars_loss: 0.9172 - fiber_loss: 0.9220 - fat_loss: 0.9186 - cholesterol_loss: 0.9165 - minerals_loss: 0.9205 - vitamins_loss: 0.9180 - val_loss: 8.6955 - val_energy_loss: 0.9579 - val_protein_loss: 1.0008 - val_carbohydrates_loss: 0.9630 - val_sugars_loss: 0.9605 - val_fiber_loss: 0.9490 - val_fat_loss: 0.9644 - val_cholesterol_loss: 0.9727 - val_minerals_loss: 0.9617 - val_vitamins_loss: 0.9656 - lr: 5.0000e-04\n",
      "Epoch 10/30\n",
      "543/543 [==============================] - 62s 114ms/step - loss: 8.2907 - energy_loss: 0.9209 - protein_loss: 0.9216 - carbohydrates_loss: 0.9210 - sugars_loss: 0.9196 - fiber_loss: 0.9237 - fat_loss: 0.9181 - cholesterol_loss: 0.9221 - minerals_loss: 0.9251 - vitamins_loss: 0.9184 - val_loss: 8.8296 - val_energy_loss: 0.9789 - val_protein_loss: 1.0063 - val_carbohydrates_loss: 0.9717 - val_sugars_loss: 0.9853 - val_fiber_loss: 0.9946 - val_fat_loss: 0.9733 - val_cholesterol_loss: 0.9714 - val_minerals_loss: 0.9683 - val_vitamins_loss: 0.9799 - lr: 5.0000e-04\n",
      "Epoch 11/30\n",
      "543/543 [==============================] - ETA: 0s - loss: 8.2329 - energy_loss: 0.9130 - protein_loss: 0.9160 - carbohydrates_loss: 0.9168 - sugars_loss: 0.9159 - fiber_loss: 0.9137 - fat_loss: 0.9134 - cholesterol_loss: 0.9165 - minerals_loss: 0.9153 - vitamins_loss: 0.9123\n",
      "Epoch 11: ReduceLROnPlateau reducing learning rate to 0.0002500000118743628.\n",
      "543/543 [==============================] - 62s 114ms/step - loss: 8.2329 - energy_loss: 0.9130 - protein_loss: 0.9160 - carbohydrates_loss: 0.9168 - sugars_loss: 0.9159 - fiber_loss: 0.9137 - fat_loss: 0.9134 - cholesterol_loss: 0.9165 - minerals_loss: 0.9153 - vitamins_loss: 0.9123 - val_loss: 8.9805 - val_energy_loss: 1.0116 - val_protein_loss: 1.0154 - val_carbohydrates_loss: 0.9775 - val_sugars_loss: 1.0091 - val_fiber_loss: 1.0056 - val_fat_loss: 0.9782 - val_cholesterol_loss: 0.9973 - val_minerals_loss: 1.0014 - val_vitamins_loss: 0.9844 - lr: 5.0000e-04\n",
      "Epoch 12/30\n",
      "543/543 [==============================] - 62s 114ms/step - loss: 8.1188 - energy_loss: 0.9004 - protein_loss: 0.9035 - carbohydrates_loss: 0.9052 - sugars_loss: 0.9015 - fiber_loss: 0.9025 - fat_loss: 0.9008 - cholesterol_loss: 0.9022 - minerals_loss: 0.9012 - vitamins_loss: 0.9014 - val_loss: 8.6549 - val_energy_loss: 0.9601 - val_protein_loss: 0.9656 - val_carbohydrates_loss: 0.9589 - val_sugars_loss: 0.9781 - val_fiber_loss: 0.9550 - val_fat_loss: 0.9712 - val_cholesterol_loss: 0.9496 - val_minerals_loss: 0.9550 - val_vitamins_loss: 0.9615 - lr: 2.5000e-04\n",
      "Epoch 13/30\n",
      "543/543 [==============================] - 62s 114ms/step - loss: 7.8979 - energy_loss: 0.8771 - protein_loss: 0.8776 - carbohydrates_loss: 0.8785 - sugars_loss: 0.8777 - fiber_loss: 0.8780 - fat_loss: 0.8770 - cholesterol_loss: 0.8773 - minerals_loss: 0.8774 - vitamins_loss: 0.8773 - val_loss: 8.5471 - val_energy_loss: 0.9452 - val_protein_loss: 0.9535 - val_carbohydrates_loss: 0.9483 - val_sugars_loss: 0.9617 - val_fiber_loss: 0.9433 - val_fat_loss: 0.9502 - val_cholesterol_loss: 0.9474 - val_minerals_loss: 0.9513 - val_vitamins_loss: 0.9461 - lr: 2.5000e-04\n",
      "Epoch 14/30\n",
      "543/543 [==============================] - 62s 114ms/step - loss: 7.8295 - energy_loss: 0.8700 - protein_loss: 0.8701 - carbohydrates_loss: 0.8700 - sugars_loss: 0.8702 - fiber_loss: 0.8699 - fat_loss: 0.8696 - cholesterol_loss: 0.8699 - minerals_loss: 0.8699 - vitamins_loss: 0.8699 - val_loss: 8.4961 - val_energy_loss: 0.9426 - val_protein_loss: 0.9522 - val_carbohydrates_loss: 0.9426 - val_sugars_loss: 0.9569 - val_fiber_loss: 0.9428 - val_fat_loss: 0.9424 - val_cholesterol_loss: 0.9387 - val_minerals_loss: 0.9395 - val_vitamins_loss: 0.9384 - lr: 2.5000e-04\n",
      "Epoch 15/30\n",
      "543/543 [==============================] - 62s 114ms/step - loss: 7.8170 - energy_loss: 0.8692 - protein_loss: 0.8687 - carbohydrates_loss: 0.8684 - sugars_loss: 0.8688 - fiber_loss: 0.8681 - fat_loss: 0.8683 - cholesterol_loss: 0.8685 - minerals_loss: 0.8683 - vitamins_loss: 0.8687 - val_loss: 8.5604 - val_energy_loss: 0.9636 - val_protein_loss: 0.9633 - val_carbohydrates_loss: 0.9478 - val_sugars_loss: 0.9594 - val_fiber_loss: 0.9553 - val_fat_loss: 0.9479 - val_cholesterol_loss: 0.9470 - val_minerals_loss: 0.9342 - val_vitamins_loss: 0.9418 - lr: 2.5000e-04\n",
      "Epoch 16/30\n",
      "543/543 [==============================] - ETA: 0s - loss: 7.8541 - energy_loss: 0.8733 - protein_loss: 0.8730 - carbohydrates_loss: 0.8725 - sugars_loss: 0.8732 - fiber_loss: 0.8716 - fat_loss: 0.8726 - cholesterol_loss: 0.8724 - minerals_loss: 0.8725 - vitamins_loss: 0.8731\n",
      "Epoch 16: ReduceLROnPlateau reducing learning rate to 0.0001250000059371814.\n",
      "543/543 [==============================] - 63s 117ms/step - loss: 7.8541 - energy_loss: 0.8733 - protein_loss: 0.8730 - carbohydrates_loss: 0.8725 - sugars_loss: 0.8732 - fiber_loss: 0.8716 - fat_loss: 0.8726 - cholesterol_loss: 0.8724 - minerals_loss: 0.8725 - vitamins_loss: 0.8731 - val_loss: 8.8359 - val_energy_loss: 1.0000 - val_protein_loss: 1.0083 - val_carbohydrates_loss: 0.9687 - val_sugars_loss: 0.9916 - val_fiber_loss: 0.9912 - val_fat_loss: 0.9689 - val_cholesterol_loss: 0.9688 - val_minerals_loss: 0.9679 - val_vitamins_loss: 0.9706 - lr: 2.5000e-04\n",
      "Epoch 17/30\n",
      "543/543 [==============================] - 63s 115ms/step - loss: 7.9634 - energy_loss: 0.8860 - protein_loss: 0.8858 - carbohydrates_loss: 0.8839 - sugars_loss: 0.8853 - fiber_loss: 0.8835 - fat_loss: 0.8846 - cholesterol_loss: 0.8849 - minerals_loss: 0.8840 - vitamins_loss: 0.8852 - val_loss: 8.4328 - val_energy_loss: 0.9352 - val_protein_loss: 0.9410 - val_carbohydrates_loss: 0.9395 - val_sugars_loss: 0.9472 - val_fiber_loss: 0.9389 - val_fat_loss: 0.9358 - val_cholesterol_loss: 0.9218 - val_minerals_loss: 0.9386 - val_vitamins_loss: 0.9347 - lr: 1.2500e-04\n",
      "Epoch 18/30\n",
      "543/543 [==============================] - 62s 114ms/step - loss: 7.8654 - energy_loss: 0.8738 - protein_loss: 0.8746 - carbohydrates_loss: 0.8739 - sugars_loss: 0.8740 - fiber_loss: 0.8741 - fat_loss: 0.8742 - cholesterol_loss: 0.8739 - minerals_loss: 0.8728 - vitamins_loss: 0.8742 - val_loss: 8.4630 - val_energy_loss: 0.9437 - val_protein_loss: 0.9422 - val_carbohydrates_loss: 0.9397 - val_sugars_loss: 0.9472 - val_fiber_loss: 0.9403 - val_fat_loss: 0.9408 - val_cholesterol_loss: 0.9280 - val_minerals_loss: 0.9494 - val_vitamins_loss: 0.9318 - lr: 1.2500e-04\n",
      "Epoch 19/30\n",
      "543/543 [==============================] - ETA: 0s - loss: 7.8243 - energy_loss: 0.8691 - protein_loss: 0.8701 - carbohydrates_loss: 0.8695 - sugars_loss: 0.8694 - fiber_loss: 0.8695 - fat_loss: 0.8693 - cholesterol_loss: 0.8693 - minerals_loss: 0.8688 - vitamins_loss: 0.8693\n",
      "Epoch 19: ReduceLROnPlateau reducing learning rate to 6.25000029685907e-05.\n",
      "543/543 [==============================] - 62s 114ms/step - loss: 7.8243 - energy_loss: 0.8691 - protein_loss: 0.8701 - carbohydrates_loss: 0.8695 - sugars_loss: 0.8694 - fiber_loss: 0.8695 - fat_loss: 0.8693 - cholesterol_loss: 0.8693 - minerals_loss: 0.8688 - vitamins_loss: 0.8693 - val_loss: 8.5289 - val_energy_loss: 0.9495 - val_protein_loss: 0.9490 - val_carbohydrates_loss: 0.9481 - val_sugars_loss: 0.9524 - val_fiber_loss: 0.9475 - val_fat_loss: 0.9501 - val_cholesterol_loss: 0.9401 - val_minerals_loss: 0.9552 - val_vitamins_loss: 0.9370 - lr: 1.2500e-04\n",
      "Epoch 20/30\n",
      "543/543 [==============================] - 62s 114ms/step - loss: 7.8402 - energy_loss: 0.8708 - protein_loss: 0.8717 - carbohydrates_loss: 0.8715 - sugars_loss: 0.8712 - fiber_loss: 0.8713 - fat_loss: 0.8705 - cholesterol_loss: 0.8710 - minerals_loss: 0.8713 - vitamins_loss: 0.8709 - val_loss: 8.5161 - val_energy_loss: 0.9397 - val_protein_loss: 0.9488 - val_carbohydrates_loss: 0.9524 - val_sugars_loss: 0.9505 - val_fiber_loss: 0.9455 - val_fat_loss: 0.9451 - val_cholesterol_loss: 0.9373 - val_minerals_loss: 0.9566 - val_vitamins_loss: 0.9402 - lr: 6.2500e-05\n",
      "Epoch 21/30\n",
      "543/543 [==============================] - ETA: 0s - loss: 7.8024 - energy_loss: 0.8667 - protein_loss: 0.8670 - carbohydrates_loss: 0.8671 - sugars_loss: 0.8668 - fiber_loss: 0.8669 - fat_loss: 0.8666 - cholesterol_loss: 0.8671 - minerals_loss: 0.8673 - vitamins_loss: 0.8668\n",
      "Epoch 21: ReduceLROnPlateau reducing learning rate to 3.125000148429535e-05.\n",
      "543/543 [==============================] - 62s 114ms/step - loss: 7.8024 - energy_loss: 0.8667 - protein_loss: 0.8670 - carbohydrates_loss: 0.8671 - sugars_loss: 0.8668 - fiber_loss: 0.8669 - fat_loss: 0.8666 - cholesterol_loss: 0.8671 - minerals_loss: 0.8673 - vitamins_loss: 0.8668 - val_loss: 8.4692 - val_energy_loss: 0.9324 - val_protein_loss: 0.9459 - val_carbohydrates_loss: 0.9467 - val_sugars_loss: 0.9471 - val_fiber_loss: 0.9401 - val_fat_loss: 0.9404 - val_cholesterol_loss: 0.9328 - val_minerals_loss: 0.9492 - val_vitamins_loss: 0.9346 - lr: 6.2500e-05\n",
      "Epoch 22/30\n",
      "543/543 [==============================] - 62s 114ms/step - loss: 7.7925 - energy_loss: 0.8657 - protein_loss: 0.8658 - carbohydrates_loss: 0.8660 - sugars_loss: 0.8657 - fiber_loss: 0.8655 - fat_loss: 0.8656 - cholesterol_loss: 0.8659 - minerals_loss: 0.8663 - vitamins_loss: 0.8659 - val_loss: 8.3922 - val_energy_loss: 0.9256 - val_protein_loss: 0.9379 - val_carbohydrates_loss: 0.9376 - val_sugars_loss: 0.9408 - val_fiber_loss: 0.9321 - val_fat_loss: 0.9337 - val_cholesterol_loss: 0.9242 - val_minerals_loss: 0.9335 - val_vitamins_loss: 0.9268 - lr: 3.1250e-05\n",
      "Epoch 23/30\n",
      "543/543 [==============================] - 62s 115ms/step - loss: 7.7793 - energy_loss: 0.8643 - protein_loss: 0.8644 - carbohydrates_loss: 0.8645 - sugars_loss: 0.8643 - fiber_loss: 0.8641 - fat_loss: 0.8643 - cholesterol_loss: 0.8645 - minerals_loss: 0.8646 - vitamins_loss: 0.8644 - val_loss: 8.3906 - val_energy_loss: 0.9250 - val_protein_loss: 0.9378 - val_carbohydrates_loss: 0.9379 - val_sugars_loss: 0.9412 - val_fiber_loss: 0.9320 - val_fat_loss: 0.9336 - val_cholesterol_loss: 0.9240 - val_minerals_loss: 0.9320 - val_vitamins_loss: 0.9272 - lr: 3.1250e-05\n",
      "Epoch 24/30\n",
      "543/543 [==============================] - 62s 114ms/step - loss: 7.7718 - energy_loss: 0.8635 - protein_loss: 0.8636 - carbohydrates_loss: 0.8636 - sugars_loss: 0.8635 - fiber_loss: 0.8634 - fat_loss: 0.8635 - cholesterol_loss: 0.8636 - minerals_loss: 0.8637 - vitamins_loss: 0.8635 - val_loss: 8.3891 - val_energy_loss: 0.9247 - val_protein_loss: 0.9379 - val_carbohydrates_loss: 0.9379 - val_sugars_loss: 0.9415 - val_fiber_loss: 0.9318 - val_fat_loss: 0.9335 - val_cholesterol_loss: 0.9238 - val_minerals_loss: 0.9306 - val_vitamins_loss: 0.9273 - lr: 3.1250e-05\n",
      "Epoch 25/30\n",
      "543/543 [==============================] - 62s 114ms/step - loss: 7.7672 - energy_loss: 0.8630 - protein_loss: 0.8630 - carbohydrates_loss: 0.8631 - sugars_loss: 0.8630 - fiber_loss: 0.8629 - fat_loss: 0.8630 - cholesterol_loss: 0.8630 - minerals_loss: 0.8631 - vitamins_loss: 0.8630 - val_loss: 8.3878 - val_energy_loss: 0.9243 - val_protein_loss: 0.9380 - val_carbohydrates_loss: 0.9380 - val_sugars_loss: 0.9417 - val_fiber_loss: 0.9317 - val_fat_loss: 0.9333 - val_cholesterol_loss: 0.9236 - val_minerals_loss: 0.9296 - val_vitamins_loss: 0.9275 - lr: 3.1250e-05\n",
      "Epoch 26/30\n",
      "543/543 [==============================] - 62s 114ms/step - loss: 7.7644 - energy_loss: 0.8627 - protein_loss: 0.8627 - carbohydrates_loss: 0.8628 - sugars_loss: 0.8627 - fiber_loss: 0.8627 - fat_loss: 0.8627 - cholesterol_loss: 0.8627 - minerals_loss: 0.8628 - vitamins_loss: 0.8627 - val_loss: 8.3870 - val_energy_loss: 0.9240 - val_protein_loss: 0.9380 - val_carbohydrates_loss: 0.9380 - val_sugars_loss: 0.9419 - val_fiber_loss: 0.9317 - val_fat_loss: 0.9331 - val_cholesterol_loss: 0.9237 - val_minerals_loss: 0.9287 - val_vitamins_loss: 0.9279 - lr: 3.1250e-05\n",
      "Epoch 27/30\n",
      "543/543 [==============================] - 62s 115ms/step - loss: 7.7628 - energy_loss: 0.8625 - protein_loss: 0.8625 - carbohydrates_loss: 0.8626 - sugars_loss: 0.8625 - fiber_loss: 0.8625 - fat_loss: 0.8625 - cholesterol_loss: 0.8625 - minerals_loss: 0.8626 - vitamins_loss: 0.8625 - val_loss: 8.3873 - val_energy_loss: 0.9235 - val_protein_loss: 0.9381 - val_carbohydrates_loss: 0.9382 - val_sugars_loss: 0.9422 - val_fiber_loss: 0.9318 - val_fat_loss: 0.9332 - val_cholesterol_loss: 0.9238 - val_minerals_loss: 0.9281 - val_vitamins_loss: 0.9284 - lr: 3.1250e-05\n",
      "Epoch 28/30\n",
      "543/543 [==============================] - ETA: 0s - loss: 7.7618 - energy_loss: 0.8624 - protein_loss: 0.8624 - carbohydrates_loss: 0.8624 - sugars_loss: 0.8624 - fiber_loss: 0.8624 - fat_loss: 0.8624 - cholesterol_loss: 0.8624 - minerals_loss: 0.8625 - vitamins_loss: 0.8624\n",
      "Epoch 28: ReduceLROnPlateau reducing learning rate to 1.5625000742147677e-05.\n",
      "543/543 [==============================] - 62s 114ms/step - loss: 7.7618 - energy_loss: 0.8624 - protein_loss: 0.8624 - carbohydrates_loss: 0.8624 - sugars_loss: 0.8624 - fiber_loss: 0.8624 - fat_loss: 0.8624 - cholesterol_loss: 0.8624 - minerals_loss: 0.8625 - vitamins_loss: 0.8624 - val_loss: 8.3877 - val_energy_loss: 0.9232 - val_protein_loss: 0.9382 - val_carbohydrates_loss: 0.9385 - val_sugars_loss: 0.9424 - val_fiber_loss: 0.9318 - val_fat_loss: 0.9331 - val_cholesterol_loss: 0.9241 - val_minerals_loss: 0.9276 - val_vitamins_loss: 0.9289 - lr: 3.1250e-05\n",
      "Epoch 29/30\n",
      "543/543 [==============================] - 63s 116ms/step - loss: 7.7635 - energy_loss: 0.8626 - protein_loss: 0.8626 - carbohydrates_loss: 0.8626 - sugars_loss: 0.8626 - fiber_loss: 0.8626 - fat_loss: 0.8626 - cholesterol_loss: 0.8626 - minerals_loss: 0.8626 - vitamins_loss: 0.8626 - val_loss: 8.3828 - val_energy_loss: 0.9228 - val_protein_loss: 0.9381 - val_carbohydrates_loss: 0.9373 - val_sugars_loss: 0.9424 - val_fiber_loss: 0.9309 - val_fat_loss: 0.9325 - val_cholesterol_loss: 0.9232 - val_minerals_loss: 0.9268 - val_vitamins_loss: 0.9288 - lr: 1.5625e-05\n",
      "Epoch 30/30\n",
      "543/543 [==============================] - 64s 117ms/step - loss: 7.7632 - energy_loss: 0.8626 - protein_loss: 0.8625 - carbohydrates_loss: 0.8626 - sugars_loss: 0.8626 - fiber_loss: 0.8625 - fat_loss: 0.8626 - cholesterol_loss: 0.8626 - minerals_loss: 0.8626 - vitamins_loss: 0.8625 - val_loss: 8.3782 - val_energy_loss: 0.9226 - val_protein_loss: 0.9381 - val_carbohydrates_loss: 0.9362 - val_sugars_loss: 0.9423 - val_fiber_loss: 0.9307 - val_fat_loss: 0.9319 - val_cholesterol_loss: 0.9220 - val_minerals_loss: 0.9267 - val_vitamins_loss: 0.9277 - lr: 1.5625e-05\n"
     ]
    },
    {
     "data": {
      "text/plain": [
       "<keras.callbacks.History at 0x189e89e5f90>"
      ]
     },
     "execution_count": 19,
     "metadata": {},
     "output_type": "execute_result"
    }
   ],
   "source": [
    "\n",
    "# Function to load and preprocess images\n",
    "def load_and_preprocess_image(image_path):\n",
    "    image = tf.io.read_file(image_path)\n",
    "    image = tf.image.decode_jpeg(image, channels=3)\n",
    "    image = tf.image.resize(image, [224, 224])  # Resize to the required size\n",
    "    image = image / 255.0  # Normalize to [0, 1]\n",
    "    return image\n",
    "\n",
    "# Function to preprocess nutrition values\n",
    "def preprocess_nutrition_values(nutrition_values):\n",
    "    return tf.convert_to_tensor(nutrition_values, dtype=tf.float64)\n",
    "\n",
    "# Create a TensorFlow Dataset from the image paths and nutrition values\n",
    "def create_tf_dataset(image_paths, nutrition_values):\n",
    "    # Create a dataset of image paths\n",
    "    path_ds = tf.data.Dataset.from_tensor_slices(image_paths)\n",
    "\n",
    "    # Create a dataset of nutrition values\n",
    "    nutrition_ds = tf.data.Dataset.from_tensor_slices(nutrition_values)\n",
    "\n",
    "    # Map the datasets to the preprocessing functions\n",
    "    image_ds = path_ds.map(load_and_preprocess_image, num_parallel_calls=tf.data.experimental.AUTOTUNE)\n",
    "    nutrition_ds = nutrition_ds.map(preprocess_nutrition_values, num_parallel_calls=tf.data.experimental.AUTOTUNE)\n",
    "\n",
    "    # Zip the image and nutrition datasets together\n",
    "    dataset = tf.data.Dataset.zip((image_ds, nutrition_ds))\n",
    "\n",
    "    return dataset\n",
    "\n",
    "# Create the datasets\n",
    "train_dataset = create_tf_dataset(train_paths, train_nutrition).batch(8)\n",
    "val_dataset = create_tf_dataset(val_paths, val_nutrition).batch(8)\n",
    "test_dataset = create_tf_dataset(test_paths, test_nutrition).batch(8)\n",
    "\n",
    "# Load the MobileNetV2 model, excluding the top classification layer\n",
    "base_model = DenseNet201(input_shape=(224, 224, 3), include_top=False, weights='imagenet')\n",
    "\n",
    "x = base_model.output\n",
    "x = layers.GlobalAveragePooling2D()(x)\n",
    "x = layers.Dense(1024, activation='relu')(x)\n",
    "x = layers.BatchNormalization()(x)\n",
    "\n",
    "# Define separate outputs for each nutritional value with BatchNormalization layers\n",
    "def add_regression_head(x, name):\n",
    "    x = layers.Dense(512, activation=\"relu\", name=f\"{name}_dense_1\")(x)\n",
    "    x = layers.BatchNormalization()(x)\n",
    "    x = layers.Dense(256, activation=\"relu\", name=f\"{name}_dense_2\")(x)\n",
    "    x = layers.BatchNormalization()(x)\n",
    "    return layers.Dense(1, activation='linear', name=f\"{name}\")(x)\n",
    "\n",
    "output_names = [\"energy\", \"protein\", \"carbohydrates\", \"sugars\", \"fiber\", \"fat\", \"cholesterol\", \"minerals\", \"vitamins\"]\n",
    "outputs = [add_regression_head(x, name) for name in output_names]\n",
    "\n",
    "annealer = ReduceLROnPlateau(monitor='val_loss', factor=0.5, patience=2, verbose=1, min_lr=1e-5)\n",
    "\n",
    "# Create the model\n",
    "model = models.Model(inputs=base_model.input, outputs=outputs)\n",
    "# Freeze the layers of the base model\n",
    "for layer in base_model.layers:\n",
    "    layer.trainable = False\n",
    "\n",
    "# Compile the model with separate loss functions for each output\n",
    "losses = {name: 'mean_squared_error' for name in output_names}\n",
    "\n",
    "\n",
    "model.compile(optimizer='adam', loss=losses)\n",
    "# Train the model\n",
    "model.fit(train_dataset, validation_data=val_dataset, epochs=30, verbose=1, callbacks=[annealer])"
   ]
  },
  {
   "cell_type": "code",
   "execution_count": 21,
   "metadata": {},
   "outputs": [],
   "source": [
    "model.save(\"foodNutrition.h5\")"
   ]
  }
 ],
 "metadata": {
  "kernelspec": {
   "display_name": "SnapHealth",
   "language": "python",
   "name": "python3"
  },
  "language_info": {
   "codemirror_mode": {
    "name": "ipython",
    "version": 3
   },
   "file_extension": ".py",
   "mimetype": "text/x-python",
   "name": "python",
   "nbconvert_exporter": "python",
   "pygments_lexer": "ipython3",
   "version": "3.10.14"
  }
 },
 "nbformat": 4,
 "nbformat_minor": 2
}
